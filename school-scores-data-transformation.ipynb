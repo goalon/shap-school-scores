{
 "cells": [
  {
   "cell_type": "code",
   "execution_count": 1,
   "metadata": {},
   "outputs": [
    {
     "name": "stdout",
     "output_type": "stream",
     "text": [
      "Note: you may need to restart the kernel to use updated packages.\n"
     ]
    }
   ],
   "source": [
    "%pip install pandas > /dev/null"
   ]
  },
  {
   "cell_type": "code",
   "execution_count": 1,
   "metadata": {},
   "outputs": [],
   "source": [
    "import pandas as pd\n",
    "from os import listdir\n",
    "\n",
    "DATA_DIR = 'data/raw/school-scores/'\n",
    "data_paths = [f'{DATA_DIR}{f}' for f in listdir(DATA_DIR)]"
   ]
  },
  {
   "cell_type": "code",
   "execution_count": 2,
   "metadata": {},
   "outputs": [],
   "source": [
    "COLUMNS_TO_SELECT = [\n",
    "    'RSPO', 'Kod teryt gminy', 'Typ gminy',\n",
    "    'liczba\\nzdających', 'wynik\\nśredni (%)',\n",
    "    'liczba\\nzdających.1', 'wynik\\nśredni (%).1',\n",
    "    'liczba\\nzdających.2', 'wynik\\nśredni (%).2',\n",
    "]"
   ]
  },
  {
   "cell_type": "code",
   "execution_count": 3,
   "metadata": {},
   "outputs": [],
   "source": [
    "data = []\n",
    "for path in data_paths:\n",
    "    df = pd.read_csv(path, skiprows=1, dtype={'RSPO': str, 'Kod teryt gminy': str})\n",
    "    df = df[(df['rodzaj placówki\\n'] == 'dla młodzieży') & (df['czy publiczna'] == 'Tak')]\n",
    "    df = df[COLUMNS_TO_SELECT]\n",
    "    df.dropna(thresh=6, inplace=True)\n",
    "    data.append(df)\n",
    "\n",
    "data = pd.concat(data)"
   ]
  },
  {
   "cell_type": "code",
   "execution_count": 4,
   "metadata": {},
   "outputs": [],
   "source": [
    "COUNTY_TYPE = 'Typ gminy'\n",
    "county_types = data[COUNTY_TYPE].value_counts().keys().tolist()\n",
    "for county_type in county_types:\n",
    "    data[county_type] = (data[COUNTY_TYPE] == county_type).astype(int)"
   ]
  },
  {
   "cell_type": "code",
   "execution_count": 5,
   "metadata": {},
   "outputs": [],
   "source": [
    "DATA_PATH = 'data/raw/counties/revenue-per-person.csv'\n",
    "revenue_per_person = pd.read_csv(DATA_PATH, sep=';', dtype={'TERYT': str})\n",
    "data = data.merge(revenue_per_person, left_on='Kod teryt gminy', right_on='TERYT')\n",
    "data.drop(columns=['Kod teryt gminy', COUNTY_TYPE, 'Name'], inplace=True)"
   ]
  },
  {
   "cell_type": "code",
   "execution_count": 6,
   "metadata": {},
   "outputs": [],
   "source": [
    "COLUMNS_TO_SELECT = [\n",
    "    \"Numer RSPO\",\n",
    "    \"Strona www\",\n",
    "    \"Data rozpoczęcia działalności\",\n",
    "    # \"Miejsce w strukturze\",\n",
    "    \"Liczba uczniów\",\n",
    "    \"Tereny sportowe\",\n",
    "    \"Języki nauczane\",\n",
    "    \"Czy zatrudnia logopedę\",\n",
    "    \"Czy zatrudnia psychologa\",\n",
    "    \"Czy zatrudnia pedagoga\",\n",
    "]"
   ]
  },
  {
   "cell_type": "code",
   "execution_count": 7,
   "metadata": {},
   "outputs": [],
   "source": [
    "rspo = pd.read_csv(f'data/raw/schools/rspo.csv', sep=';', dtype={\"Numer RSPO\": str})\n",
    "rspo = rspo[COLUMNS_TO_SELECT]\n",
    "rspo.dropna(subset=[\"Liczba uczniów\"], inplace=True)\n",
    "rspo[\"Strona www\"] = rspo[\"Strona www\"] != \"http://\"\n",
    "rspo[\"Tereny sportowe\"] = rspo[\"Tereny sportowe\"].notna()\n",
    "rspo[\"Języki nauczane\"] = rspo[\"Języki nauczane\"].str.contains(\"niemiecki|francuski\")\n",
    "rspo[\"Czy zatrudnia logopedę\"] = rspo[\"Czy zatrudnia logopedę\"] == \"TAK\"\n",
    "rspo[\"Czy zatrudnia psychologa\"] = rspo[\"Czy zatrudnia psychologa\"] == \"TAK\"\n",
    "rspo[\"Czy zatrudnia pedagoga\"] = rspo[\"Czy zatrudnia pedagoga\"] == \"TAK\"\n",
    "rspo = rspo.astype({\"Języki nauczane\": bool})\n",
    "rspo = rspo.astype({\n",
    "    'Liczba uczniów': int, \"Strona www\": int, \"Tereny sportowe\": int, \"Języki nauczane\": int,\n",
    "    \"Czy zatrudnia logopedę\": int, \"Czy zatrudnia psychologa\": int, \"Czy zatrudnia pedagoga\": int,\n",
    "})"
   ]
  },
  {
   "cell_type": "code",
   "execution_count": 8,
   "metadata": {},
   "outputs": [],
   "source": [
    "data = data.merge(rspo, left_on='RSPO', right_on='Numer RSPO')\n",
    "data.drop(columns=['Numer RSPO'], inplace=True)"
   ]
  },
  {
   "cell_type": "code",
   "execution_count": 9,
   "metadata": {},
   "outputs": [],
   "source": [
    "data.rename(columns={\n",
    "    'liczba\\nzdających': 'Participants in Polish',\n",
    "    'wynik\\nśredni (%)': 'Avg. score in Polish',\n",
    "    'liczba\\nzdających.1': 'Participants in mathematics',\n",
    "    'wynik\\nśredni (%).1': 'Avg. score in mathematics',\n",
    "    'liczba\\nzdających.2': 'Participants in English',\n",
    "    'wynik\\nśredni (%).2': 'Avg. score in English',\n",
    "    'Gmina wiejska': 'Rural county',\n",
    "    'Gmina miejska': 'Urban county',\n",
    "    'Obszar wiejski': 'Rural territory',\n",
    "    'Miasto': 'City',\n",
    "    \"Strona www\": \"Website\",\n",
    "    \"Data rozpoczęcia działalności\": \"Start date\",\n",
    "    \"Liczba uczniów\": \"Students\",\n",
    "    \"Tereny sportowe\": \"Sport venues\",\n",
    "    \"Języki nauczane\": \"German or French\",\n",
    "    \"Czy zatrudnia logopedę\": \"Logopedist\",\n",
    "    \"Czy zatrudnia psychologa\": \"Psychologist\",\n",
    "    \"Czy zatrudnia pedagoga\": \"Pedagogue\",\n",
    "}, inplace=True)\n",
    "\n",
    "COLUMNS_ORDER=[\n",
    "    'RSPO', 'TERYT',\n",
    "    'Rural county', 'Urban county', 'Rural territory', 'City',\n",
    "    'Revenue per person',\n",
    "    \"Website\", \"Start date\", \"Students\", \"Sport venues\", \"German or French\",\n",
    "    \"Logopedist\", \"Psychologist\", \"Pedagogue\",\n",
    "    'Participants in Polish', 'Avg. score in Polish',\n",
    "    'Participants in mathematics', 'Avg. score in mathematics',\n",
    "    'Participants in English', 'Avg. score in English',\n",
    "]\n",
    "data = data[COLUMNS_ORDER]"
   ]
  },
  {
   "cell_type": "code",
   "execution_count": 10,
   "metadata": {},
   "outputs": [],
   "source": [
    "polish_data = data.drop(columns=[\n",
    "  'Participants in mathematics',\n",
    "  'Avg. score in mathematics',\n",
    "  'Participants in English',\n",
    "  'Avg. score in English',\n",
    "]).dropna().astype({\n",
    "  'Participants in Polish': int,\n",
    "  'Avg. score in Polish': int,\n",
    "})\n",
    "\n",
    "mathematics_data = data.drop(columns=[\n",
    "  'Participants in Polish',\n",
    "  'Avg. score in Polish',\n",
    "  'Participants in English',\n",
    "  'Avg. score in English',\n",
    "]).dropna().astype({\n",
    "  'Participants in mathematics': int,\n",
    "  'Avg. score in mathematics': int,\n",
    "})\n",
    "\n",
    "english_data = data.drop(columns=[\n",
    "  'Participants in Polish',\n",
    "  'Avg. score in Polish',\n",
    "  'Participants in mathematics',\n",
    "  'Avg. score in mathematics',\n",
    "]).dropna().astype({\n",
    "  'Participants in English': int,\n",
    "  'Avg. score in English': int,\n",
    "})"
   ]
  },
  {
   "cell_type": "code",
   "execution_count": 11,
   "metadata": {},
   "outputs": [],
   "source": [
    "exams_data = [polish_data, mathematics_data, english_data]\n",
    "exams = ['polish', 'mathematics', 'english']\n",
    "for exam_data, exam in zip(exams_data, exams):\n",
    "    exam_data.to_csv(f'data/combined/{exam}.csv', index=None)"
   ]
  },
  {
   "cell_type": "code",
   "execution_count": null,
   "metadata": {},
   "outputs": [],
   "source": []
  }
 ],
 "metadata": {
  "interpreter": {
   "hash": "64756359114e118ae79f5330bbacf60550ab4732b24bb4848701a39f07aac370"
  },
  "kernelspec": {
   "display_name": "Python 3.9.5 ('venv': venv)",
   "language": "python",
   "name": "python3"
  },
  "language_info": {
   "codemirror_mode": {
    "name": "ipython",
    "version": 3
   },
   "file_extension": ".py",
   "mimetype": "text/x-python",
   "name": "python",
   "nbconvert_exporter": "python",
   "pygments_lexer": "ipython3",
   "version": "3.9.5"
  },
  "orig_nbformat": 4
 },
 "nbformat": 4,
 "nbformat_minor": 2
}
